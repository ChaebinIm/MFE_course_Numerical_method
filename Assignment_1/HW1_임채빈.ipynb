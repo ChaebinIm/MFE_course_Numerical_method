{
 "cells": [
  {
   "cell_type": "code",
   "execution_count": 1,
   "metadata": {},
   "outputs": [],
   "source": [
    "import numpy as np\n",
    "from scipy.optimize import minimize\n",
    "from datetime import date\n",
    "from scipy.stats import norm"
   ]
  },
  {
   "cell_type": "markdown",
   "metadata": {},
   "source": [
    "# 1번 문제"
   ]
  },
  {
   "cell_type": "code",
   "execution_count": 2,
   "metadata": {},
   "outputs": [],
   "source": [
    "S = 273.55\n",
    "K1 = 257.5\n",
    "K2 = 260.0\n",
    "r = 0.0155\n",
    "T = date(2019, 10, 10)\n",
    "t = date(2019, 9, 30)\n",
    "C1 = 16.15\n",
    "C2 = 14.00\n",
    "time_to_expiration = (T - t)\n",
    "time_to_expiration = time_to_expiration.days/365"
   ]
  },
  {
   "cell_type": "code",
   "execution_count": null,
   "metadata": {},
   "outputs": [],
   "source": []
  },
  {
   "cell_type": "code",
   "execution_count": 3,
   "metadata": {},
   "outputs": [],
   "source": [
    "def calcul_IV(x): # input : (IV, C, K)\n",
    "    iv = x[0]\n",
    "    C = x[1]\n",
    "    K = x[2]\n",
    "    d1 = (np.log(S / K) + (r + (iv ** 2) / 2) * time_to_expiration) / (iv * np.sqrt(time_to_expiration))\n",
    "    d2 = d1 - (iv*np.sqrt(time_to_expiration))\n",
    "    result = S*norm.cdf(d1) - K*np.exp((-1)*r*time_to_expiration)*norm.cdf(d2)\n",
    "    return np.abs(result - C)"
   ]
  },
  {
   "cell_type": "code",
   "execution_count": 4,
   "metadata": {},
   "outputs": [
    {
     "name": "stderr",
     "output_type": "stream",
     "text": [
      "/Library/Frameworks/Python.framework/Versions/3.6/lib/python3.6/site-packages/ipykernel_launcher.py:5: RuntimeWarning: divide by zero encountered in double_scalars\n",
      "  \"\"\"\n"
     ]
    },
    {
     "data": {
      "text/plain": [
       "      fun: 0.009326100349461797\n",
       " hess_inv: <3x3 LbfgsInvHessProduct with dtype=float64>\n",
       "      jac: array([ 0.        , -1.00000008, -0.99957447])\n",
       "  message: b'CONVERGENCE: NORM_OF_PROJECTED_GRADIENT_<=_PGTOL'\n",
       "     nfev: 8\n",
       "      nit: 1\n",
       "   status: 0\n",
       "  success: True\n",
       "        x: array([  0.  ,  16.15, 257.5 ])"
      ]
     },
     "execution_count": 4,
     "metadata": {},
     "output_type": "execute_result"
    }
   ],
   "source": [
    "bnds1 = ((0, np.inf), (C1, C1), (K1, K1))\n",
    "minimize(calcul_IV, [0.25, C1, K1], bounds = bnds1)"
   ]
  },
  {
   "cell_type": "code",
   "execution_count": 5,
   "metadata": {},
   "outputs": [
    {
     "name": "stderr",
     "output_type": "stream",
     "text": [
      "/Library/Frameworks/Python.framework/Versions/3.6/lib/python3.6/site-packages/ipykernel_launcher.py:5: RuntimeWarning: divide by zero encountered in double_scalars\n",
      "  \"\"\"\n"
     ]
    },
    {
     "data": {
      "text/plain": [
       "      fun: 5.454808160720859e-09\n",
       " hess_inv: <3x3 LbfgsInvHessProduct with dtype=float64>\n",
       "      jac: array([5.3524559 , 1.00000008, 0.91881418])\n",
       "  message: b'CONVERGENCE: REL_REDUCTION_OF_F_<=_FACTR*EPSMCH'\n",
       "     nfev: 188\n",
       "      nit: 6\n",
       "   status: 0\n",
       "  success: True\n",
       "        x: array([2.1829291e-01, 1.4000000e+01, 2.6000000e+02])"
      ]
     },
     "execution_count": 5,
     "metadata": {},
     "output_type": "execute_result"
    }
   ],
   "source": [
    "bnds2 = ((0, np.inf), (C2, C2), (K2, K2))\n",
    "minimize(calcul_IV, [0.25, C2, K2], bounds = bnds2)"
   ]
  },
  {
   "cell_type": "code",
   "execution_count": 6,
   "metadata": {},
   "outputs": [
    {
     "name": "stderr",
     "output_type": "stream",
     "text": [
      "/Library/Frameworks/Python.framework/Versions/3.6/lib/python3.6/site-packages/ipykernel_launcher.py:5: RuntimeWarning: divide by zero encountered in double_scalars\n",
      "  \"\"\"\n"
     ]
    },
    {
     "data": {
      "text/plain": [
       "0.009326100349461797"
      ]
     },
     "execution_count": 6,
     "metadata": {},
     "output_type": "execute_result"
    }
   ],
   "source": [
    "calcul_IV([0, 16.1500000, 257.500000]) # IV : 0 >> 결과값이 0으로 수렴x (0.009326~ 으로 수렴.) 해가 없음."
   ]
  },
  {
   "cell_type": "code",
   "execution_count": 7,
   "metadata": {},
   "outputs": [
    {
     "data": {
      "text/plain": [
       "3.781025270654936e-09"
      ]
     },
     "execution_count": 7,
     "metadata": {},
     "output_type": "execute_result"
    }
   ],
   "source": [
    "calcul_IV([0.21829291, 14.0000000, 260.000000]) # IV : 0.21829291  >> 결과값이 0으로 수렴."
   ]
  },
  {
   "cell_type": "markdown",
   "metadata": {},
   "source": [
    "### 그러므로 결과는 다음과 같다.\n",
    "- 옵션 1의 Imvol은 구할 수 없다. >> 최적화 툴을 사용해도 할 수 없는 것을 보아 \"해가 없는\" 방정식이 나올 것 같다.\n",
    "- 옵션 2의 Imvol은 구할 수 있다. >> IV이 0.21829291일 때, 블랙숄즈로 구한 콜옵션 가격이 시장가와 같게 된다."
   ]
  },
  {
   "cell_type": "markdown",
   "metadata": {},
   "source": [
    "옵션 1의 implied volatility(이하 IV)는 왜 안나오는 것일까? 일단 IV는 해당 시점에 옵션의 가치에 맞춰서 결정되는 블랙숄즈 방정식 기반의 변동성을 의미한다. 그렇다면 결국 IV는 수식에 의해서 결정된다는 것인데, 수식에 항상 실수인 단 한개의 근이 있을까? 라는 생각을 할 수 있게 된다. 어쩌면 여러개의 근이 있을 수 있고 어쩌면 근이 없거나 복소수인 근이 있을 수도 있는 것이 방정식이다. 검토를 해본 결과, 후자인 경우가 이 경우라고 보여진다."
   ]
  },
  {
   "cell_type": "code",
   "execution_count": null,
   "metadata": {},
   "outputs": [],
   "source": []
  },
  {
   "cell_type": "code",
   "execution_count": null,
   "metadata": {},
   "outputs": [],
   "source": []
  },
  {
   "cell_type": "markdown",
   "metadata": {},
   "source": [
    "# 2번 문제"
   ]
  },
  {
   "cell_type": "code",
   "execution_count": 74,
   "metadata": {},
   "outputs": [],
   "source": [
    "def Thomas_algo1(a, b, c, d):\n",
    "    n = len(d) \n",
    "    _c = np.zeros(6)\n",
    "    _d = np.zeros(6)\n",
    "    x = np.zeros(6)\n",
    "    _c[0] = c[0]/a[0]\n",
    "    _d[0] = d[0]/a[0]\n",
    "    for i in range(1, n):\n",
    "        _c[i] = ( c[i] / (a[i]-b[i]*_c[i-1]) )\n",
    "        _d[i] = ( (d[i] - b[i] * _d[i-1]) / (a[i] - b[i] * _c[i-1]) )\n",
    "        \n",
    "    x[n-1] = _d[n-1]\n",
    "    for i in range(n-2, -1, -1):\n",
    "        x[i] = _d[i] - _c[i] * x[i+1]\n",
    "    \n",
    "    return x"
   ]
  },
  {
   "cell_type": "code",
   "execution_count": 75,
   "metadata": {},
   "outputs": [],
   "source": [
    "def Thomas_algo2(a, b, c, d):\n",
    "    n = len(d) \n",
    "    _a = np.zeros(6)\n",
    "    _d = np.zeros(6)\n",
    "    x = np.zeros(6)\n",
    "    _a[0] = a[0]\n",
    "    _d[0] = d[0]\n",
    "    for i in range(1, n):\n",
    "        _a[i] = a[i] - b[i] * c[i-1]/_a[i-1]\n",
    "        _d[i] =  d[i] - b[i] * _d[i-1] / _a[i-1]\n",
    "    \n",
    "    _a[n-1] = a[n-1] - b[n-1]*c[n-2]/_a[n-2]\n",
    "    _d[n-1] = d[n-1] - b[n-1]*_d[n-2]/_a[n-2]\n",
    "        \n",
    "    x[n-1] = _d[n-1]/_a[n-1]\n",
    "    for i in range(n-2, -1, -1):\n",
    "        x[i] = _d[i]/_a[i] - c[i]/_a[i] * x[i+1]\n",
    "    return x"
   ]
  },
  {
   "cell_type": "code",
   "execution_count": 76,
   "metadata": {},
   "outputs": [],
   "source": [
    "def extract_var(mat): # mat : tridiagonal matrix\n",
    "    n = len(mat)\n",
    "    a = np.zeros(6)\n",
    "    a[0] = (mat[0][0])\n",
    "    b = np.zeros(6)\n",
    "    c = np.zeros(6)\n",
    "    c[0] = (mat[0][1])\n",
    "    for i in range(1, n-1):\n",
    "        a[i] = (mat[i][i])\n",
    "        b[i] = (mat[i][i-1])\n",
    "        c[i] = (mat[i][i+1])\n",
    "    a[n-1] = (mat[n-1][n-1])\n",
    "    b[n-1] = (mat[n-1][n-2])\n",
    "    return a, b, c"
   ]
  },
  {
   "cell_type": "code",
   "execution_count": 77,
   "metadata": {},
   "outputs": [],
   "source": [
    "_input = np.array([[1,2,0,0,0,0],[-2,1,1,0,0,0],[0,.5,1,.5,0,0],[0,0,-2,1,.5,0],[0,0,0,1,.2,.3],[0,0,0,0,1,1]],dtype=float)\n",
    "_d = np.array([2, -1, 0.5, 2.3, -5, 0.25])"
   ]
  },
  {
   "cell_type": "code",
   "execution_count": 78,
   "metadata": {},
   "outputs": [],
   "source": [
    "_a, _b, _c = extract_var(_input)"
   ]
  },
  {
   "cell_type": "code",
   "execution_count": 79,
   "metadata": {},
   "outputs": [],
   "source": [
    "def Thomas_algorithm(A, _d):\n",
    "    _a, _b, _c = extract_var(A)\n",
    "    return Thomas_algo1(_a, _b, _c, _d)"
   ]
  },
  {
   "cell_type": "code",
   "execution_count": 80,
   "metadata": {},
   "outputs": [
    {
     "data": {
      "text/plain": [
       "array([  1.59609375,   0.20195312,   1.99023438,  -3.18242188,\n",
       "        18.92578125, -18.67578125])"
      ]
     },
     "execution_count": 80,
     "metadata": {},
     "output_type": "execute_result"
    }
   ],
   "source": [
    "Thomas_algorithm(_input, _d)"
   ]
  },
  {
   "cell_type": "markdown",
   "metadata": {},
   "source": [
    "#### 그러므로, x는 [  1.59609375,   0.20195312,   1.99023438,  -3.18242188, 18.92578125, -18.67578125]"
   ]
  },
  {
   "cell_type": "code",
   "execution_count": null,
   "metadata": {},
   "outputs": [],
   "source": []
  }
 ],
 "metadata": {
  "kernelspec": {
   "display_name": "Python 3",
   "language": "python",
   "name": "python3"
  },
  "language_info": {
   "codemirror_mode": {
    "name": "ipython",
    "version": 3
   },
   "file_extension": ".py",
   "mimetype": "text/x-python",
   "name": "python",
   "nbconvert_exporter": "python",
   "pygments_lexer": "ipython3",
   "version": "3.6.8"
  }
 },
 "nbformat": 4,
 "nbformat_minor": 2
}
