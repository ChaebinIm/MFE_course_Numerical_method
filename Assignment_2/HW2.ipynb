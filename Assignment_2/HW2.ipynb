{
 "cells": [
  {
   "cell_type": "code",
   "execution_count": 1,
   "metadata": {},
   "outputs": [],
   "source": [
    "import pandas as pd\n",
    "import numpy as np\n",
    "import matplotlib.pyplot as plt"
   ]
  },
  {
   "cell_type": "code",
   "execution_count": 2,
   "metadata": {},
   "outputs": [],
   "source": [
    "def Thomas_algo1(a, b, c, d):\n",
    "    n = len(d) \n",
    "    _c = np.zeros(n)\n",
    "    _d = np.zeros(n)\n",
    "    x = np.zeros(n)\n",
    "    _c[0] = c[0]/a[0]\n",
    "    _d[0] = d[0]/a[0]\n",
    "    for i in range(1, n):\n",
    "        _c[i] = ( c[i] / (a[i]-b[i]*_c[i-1]) )\n",
    "        _d[i] = ( (d[i] - b[i] * _d[i-1]) / (a[i] - b[i] * _c[i-1]) )\n",
    "        \n",
    "    x[n-1] = _d[n-1]\n",
    "    for i in range(n-2, -1, -1):\n",
    "        x[i] = _d[i] - _c[i] * x[i+1]\n",
    "    \n",
    "    return x\n",
    "\n",
    "def Thomas_algo2(a, b, c, d):\n",
    "    n = len(d) \n",
    "    _a = np.zeros(n)\n",
    "    _d = np.zeros(n)\n",
    "    x = np.zeros(n)\n",
    "    _a[0] = a[0]\n",
    "    _d[0] = d[0]\n",
    "    for i in range(1, n):\n",
    "        _a[i] = a[i] - b[i] * c[i-1]/_a[i-1]\n",
    "        _d[i] =  d[i] - b[i] * _d[i-1] / _a[i-1]\n",
    "    \n",
    "    _a[n-1] = a[n-1] - b[n-1]*c[n-2]/_a[n-2]\n",
    "    _d[n-1] = d[n-1] - b[n-1]*_d[n-2]/_a[n-2]\n",
    "        \n",
    "    x[n-1] = _d[n-1]/_a[n-1]\n",
    "    for i in range(n-2, -1, -1):\n",
    "        x[i] = _d[i]/_a[i] - c[i]/_a[i] * x[i+1]\n",
    "    return x\n"
   ]
  },
  {
   "cell_type": "markdown",
   "metadata": {},
   "source": [
    "## IFDM : 이해를 돕기 위해서 해본 것."
   ]
  },
  {
   "cell_type": "code",
   "execution_count": 3,
   "metadata": {},
   "outputs": [],
   "source": [
    "calls = ['call', 'Call', 'c', 'C']\n",
    "puts = ['put', 'Put', 'p', 'P']\n",
    "\n",
    "\n",
    "\n",
    "#### IFDM of vanilla put/call option ####\n",
    "def IFDM(opt_type, x, r, vol, N, I, D, dx, dt):\n",
    "    u = np.zeros((N+1, I+1)) # (time, price)\n",
    "    # boundary condition : 0 time point\n",
    "    if opt_type in calls:\n",
    "        for i in range(I+1):\n",
    "            u[0][i] = max(0 + i * dx - K, 0)\n",
    "    elif opt_type in puts:\n",
    "        for i in range(I+1):\n",
    "            u[0][i] = max(K - dx * i - 0, 0)\n",
    "    else:\n",
    "        print('option type error!')\n",
    "        return\n",
    "    \n",
    "    # boundary condition : Smax or Smin\n",
    "    if opt_type in calls:\n",
    "        u[1:N+1, 0] = 0\n",
    "        u[1:N+1, I] = 0 + I * dx * np.exp(-D * np.arange(1, N+1) * dt) - K * np.exp(-r * np.arange(1, N+1) * dt)\n",
    "    else:\n",
    "        u[1:N+1, 0] = K * np.exp(-r * np.arange(1, N+1) * dt)\n",
    "        u[1:N+1, I] = 0\n",
    "    \n",
    "    \n",
    "    # a, b, c\n",
    "    tmp = np.arange(1, I)\n",
    "    a = 1 + dt * (r + (vol**2) * (tmp*tmp))\n",
    "    b = (dt/2) * ((r - D) * tmp - (vol**2) * (tmp*tmp))\n",
    "    c = (dt/2) * (-(r - D) * tmp - (vol**2) * (tmp*tmp))\n",
    "    \n",
    "    # d & updated u\n",
    "    for i in range(1, N+1):\n",
    "        d = u[i-1][1: I]\n",
    "        d[0] = d[0] - b[0]* u[i][0]\n",
    "        d[I-2] = d[I-2] - c[I-2] * u[i][I]\n",
    "        u[i][1:I] = Thomas_algo1(a, b, c, d)\n",
    "    \n",
    "    return u"
   ]
  },
  {
   "cell_type": "code",
   "execution_count": 4,
   "metadata": {},
   "outputs": [],
   "source": [
    "vol = 0.2 # volatility in document\n",
    "x = 10 # 2020년 3월 2일의 KOSPI200 index\n",
    "r = 0.05 # 임의로 잡았음.\n",
    "N = 1000 # time 쪼갠 갯수!\n",
    "I = 500 # 가격 쪼갠 갯수!\n",
    "K = 10 # strike price\n",
    "M = 0.5 # maturity\n",
    "D = 0 # dividend\n",
    "dx = 20/I\n",
    "dt = M/N"
   ]
  },
  {
   "cell_type": "code",
   "execution_count": 5,
   "metadata": {},
   "outputs": [],
   "source": [
    "res_plain_IFDM = IFDM('put', x, r, vol, N, I, D, dx, dt)"
   ]
  },
  {
   "cell_type": "code",
   "execution_count": 6,
   "metadata": {},
   "outputs": [],
   "source": [
    "price_plain_IFDM = np.zeros((I+1, 2))\n",
    "price_plain_IFDM[:, 0] = 0 + np.arange(0, I+1) * dx\n",
    "price_plain_IFDM[:, 1] = res_plain_IFDM[N]"
   ]
  },
  {
   "cell_type": "code",
   "execution_count": 7,
   "metadata": {},
   "outputs": [
    {
     "data": {
      "text/plain": [
       "array([10.        ,  0.44184716])"
      ]
     },
     "execution_count": 7,
     "metadata": {},
     "output_type": "execute_result"
    }
   ],
   "source": [
    "price_plain_IFDM[len(price_plain_IFDM)//2]"
   ]
  },
  {
   "cell_type": "markdown",
   "metadata": {},
   "source": [
    "교수님 PPT속 예제가 잘 출력된다. 이제 CNFDM을 보도록 하자."
   ]
  },
  {
   "cell_type": "markdown",
   "metadata": {},
   "source": [
    "## CNFDM : 기본 함수 코드"
   ]
  },
  {
   "cell_type": "code",
   "execution_count": 8,
   "metadata": {},
   "outputs": [],
   "source": [
    "#### IFDM of vanilla put/call option ####\n",
    "def CNFDM(opt_type, x, r, vol, N, I, D, dx, dt):\n",
    "    u = np.zeros((N+1, I+1)) # (time, price)\n",
    "    # boundary condition : 0 time point\n",
    "    if opt_type in calls:\n",
    "        for i in range(I+1):\n",
    "            u[0][i] = max(0 + i * dx - K, 0)\n",
    "    elif opt_type in puts:\n",
    "        for i in range(I+1):\n",
    "            u[0][i] = max(K - dx * i - 0, 0)\n",
    "    else:\n",
    "        print('option type error!')\n",
    "        return\n",
    "    \n",
    "    # boundary condition : Smax or Smin\n",
    "    if opt_type in calls:\n",
    "        u[1:N+1, 0] = 0\n",
    "        u[1:N+1, I] = 0 + I * dx * np.exp(-D * np.arange(1, N+1) * dt) - K * np.exp(-r * np.arange(1, N+1) * dt)\n",
    "    else:\n",
    "        u[1:N+1, 0] = K * np.exp(-r * np.arange(1, N+1) * dt)\n",
    "        u[1:N+1, I] = 0\n",
    "    \n",
    "    \n",
    "    # a, b, c\n",
    "    tmp = np.arange(1, I)\n",
    "    a = (dt/2) * (r + (vol**2) * (tmp*tmp))\n",
    "    b = (dt/4) * ((r - D) * tmp - (vol**2) * (tmp*tmp))\n",
    "    c = (dt/4) * (-(r - D) * tmp - (vol**2) * (tmp*tmp))\n",
    "    \n",
    "    # d & updated u\n",
    "    for i in range(1, N+1):\n",
    "        d = -b*u[i-1][0: I-1] + (1 - a) * u[i-1, 1:I] - c * u[i-1, 2:I+1]\n",
    "        d[0] = d[0] - b[0]* u[i][0]\n",
    "        d[I-2] = d[I-2] - c[I-2] * u[i][I]\n",
    "        u[i][1:I] = Thomas_algo1(1+a, b, c, d)\n",
    "    \n",
    "    return u"
   ]
  },
  {
   "cell_type": "code",
   "execution_count": 9,
   "metadata": {},
   "outputs": [],
   "source": [
    "vol = 0.2 # volatility in document\n",
    "x = 10 # 2020년 3월 2일의 KOSPI200 index\n",
    "r = 0.05 # 임의로 잡았음.\n",
    "N = 1000 # time 쪼갠 갯수!\n",
    "I = 500 # 가격 쪼갠 갯수!\n",
    "K = 10 # strike price\n",
    "M = 0.5 # maturity\n",
    "D = 0 # dividend\n",
    "dx = 20/I\n",
    "dt = M/N"
   ]
  },
  {
   "cell_type": "code",
   "execution_count": 10,
   "metadata": {},
   "outputs": [],
   "source": [
    "res_plain_CNFDM = CNFDM('put', x, r, vol, N, I, D, dx, dt)"
   ]
  },
  {
   "cell_type": "code",
   "execution_count": 11,
   "metadata": {},
   "outputs": [],
   "source": [
    "price_plain_CNFDM = np.zeros((I+1, 2))\n",
    "price_plain_CNFDM[:, 0] = 0 + np.arange(0, I+1) * dx\n",
    "price_plain_CNFDM[:, 1] = res_plain_CNFDM[N]"
   ]
  },
  {
   "cell_type": "code",
   "execution_count": 12,
   "metadata": {},
   "outputs": [
    {
     "data": {
      "text/plain": [
       "array([10.        ,  0.44191582])"
      ]
     },
     "execution_count": 12,
     "metadata": {},
     "output_type": "execute_result"
    }
   ],
   "source": [
    "price_plain_CNFDM[len(price_plain_CNFDM)//2]"
   ]
  },
  {
   "cell_type": "markdown",
   "metadata": {},
   "source": [
    "교수님이 내주신 예제와 같은 값이 나온다."
   ]
  },
  {
   "cell_type": "markdown",
   "metadata": {},
   "source": [
    "## 강의 예제 기반 IFDM"
   ]
  },
  {
   "cell_type": "code",
   "execution_count": 13,
   "metadata": {},
   "outputs": [],
   "source": [
    "r = 0.0177\n",
    "D = 0\n",
    "s0 = 200\n",
    "cr = [0.0215, 0.043, 0.0645, 0.086, 0.1075, 0.129]\n",
    "K = [0.95, 0.95, 0.95, 0.90, 0.90, 0.90]\n",
    "dates = [0, 0.5, 1, 1.5, 2, 2.5]\n",
    "B = 0.65\n",
    "vol = 0.2"
   ]
  },
  {
   "cell_type": "code",
   "execution_count": 14,
   "metadata": {},
   "outputs": [],
   "source": [
    "dx = s0 * 0.01\n",
    "I = 400\n",
    "Smax = dx * I\n",
    "Smin = 0\n",
    "pp = 50 # number of time points\n",
    "N = 6 * pp\n",
    "T = 3 # maturity"
   ]
  },
  {
   "cell_type": "code",
   "execution_count": 15,
   "metadata": {},
   "outputs": [],
   "source": [
    "def ELS_OneStar_IFDM(Smin, Smax, vol, r, D, S0, cr, K, B, T, I, N, dates):\n",
    "    dt = T/N\n",
    "    S = np.linspace(Smin, Smax, I+1)\n",
    "    S0_point = np.where(S == S0)[0][0]\n",
    "    x = S/S0\n",
    "    # Coefficients of x for IFDM and boundary condition adjustment\n",
    "    tmp = np.arange(1, I)\n",
    "    a = 1 + dt*(r + (vol**2) * (tmp*tmp))\n",
    "    b = (dt/2) * ((r-D) * tmp - (vol**2) * (tmp*tmp))\n",
    "    c = (dt/2) * (-(r-D) * tmp - (vol**2) * (tmp*tmp))\n",
    "    a_prime = a.copy()\n",
    "    b_prime = b.copy()\n",
    "    c_prime = c.copy()\n",
    "    a_prime[0] = a[0] + 2*b[0]\n",
    "    c_prime[0] = c[0] - b[0]\n",
    "    a_prime[I-2] = a[I-2] + 2*c[I-2]\n",
    "    b_prime[I-2] = b[I-2] - c[I-2]\n",
    "    # Initial conditions, u(0, j) and w(0, j) are determined\n",
    "    u = np.zeros((N+1, I+1))\n",
    "    w = np.zeros((N+1, I+1))\n",
    "    for j in range(I):\n",
    "        # u\n",
    "        if(x[j] > B):\n",
    "            u[0][j] = 1 + cr[5]\n",
    "        else:\n",
    "            u[0][j] = x[j]\n",
    "        # w\n",
    "        if x[j] >= K[-1]:\n",
    "            w[0][j] = (1 + cr[5])\n",
    "        else:\n",
    "            w[0][j] = x[j]\n",
    "    \n",
    "    # Linear boundary condition\n",
    "#     u[1:N+1, 0] = 2 * u[1:N+1, 1] - u[1:N+1, 2]\n",
    "#     u[1:N+1, I] = 2 * u[1:N+1, I-1] - u[1:N+1, I-2]\n",
    "#     w[1:N+1, 0] = 2 * w[1:N+1, 1] - w[1:N+1, 2]\n",
    "#     w[1:N+1, I] = 2 * w[1:N+1, I-1] - w[1:N+1, I-2]\n",
    "    u[0, 0] = 2 * u[0, 1] - u[0, 2]\n",
    "    u[0, I] = 2 * u[0, I-1] - u[0, I-2]\n",
    "    w[0, 0] = 2 * w[0, 1] - w[0, 2]\n",
    "    w[0, I] = 2 * w[0, I-1] - w[0, I-2]\n",
    "#     print(a.shape)\n",
    "#     print(b.shape)\n",
    "#     print(c.shape)\n",
    "    Btag = int(round(S0_point* B)) # Btag : barrier 가격의 index\n",
    "    for i in range(1, N+1):\n",
    "        d = u[i-1, 1:I]\n",
    "        u[i, 1:I] = Thomas_algo1(a_prime, b_prime, c_prime, d) # CN에서는 a -> 1+a, \n",
    "        d2 = w[i-1, 1:I]\n",
    "        w[i, 1:I] = Thomas_algo1(a_prime, b_prime, c_prime, d2) # b, c -> I-2개(slicing) 필요.\n",
    "        \n",
    "#         print(i)\n",
    "#         print('u :', u[i])\n",
    "#         print('w :', w[i])\n",
    "\n",
    "        # fix under barrier\n",
    "        u[i, 1:Btag+1] = w[i, 1:Btag+1]\n",
    "        \n",
    "        # fix over strike price at the early redemtion date.\n",
    "        if i*dt in dates:\n",
    "#             print(i)\n",
    "#             print('period:', round(i*dt, 1))\n",
    "            dummy = int(round(S0_point * K[len(K) -1 - round(i*dt*2)])) # dummy : strike price index\n",
    "#             print('strike price:', S0_point * K[len(K) -1 - round(i*dt*2)])\n",
    "            u[i, dummy : I+1] = 1 + cr[round(len(cr) - round(i*dt, 1)*2)-1]\n",
    "            w[i, dummy : I+1] = 1 + cr[round(len(cr) - round(i*dt, 1)*2)-1]\n",
    "#             print('third:', round(len(cr) - round(i*dt, 1)*2)-1)\n",
    "#             print('fourth:', 1 + cr[round(len(cr) - round(i*dt, 1)*2)-1])\n",
    "        u[i][0] = 2 * u[i][1] - u[i][2]\n",
    "        u[i][I] = 2 * u[i][I-1] - u[i][I-2]\n",
    "        w[i][0] = 2 * w[i][1] - w[i][2]\n",
    "        w[i][I] = 2 * w[i][I-1] - w[i][I-2]\n",
    "        \n",
    "        \n",
    "    return u, w"
   ]
  },
  {
   "cell_type": "code",
   "execution_count": 16,
   "metadata": {},
   "outputs": [],
   "source": [
    "U_ELS_IFDM, W_ELS_IFDM = ELS_OneStar_IFDM(Smin, Smax, vol, r, D, s0, cr, K, B, T, I, N, dates)"
   ]
  },
  {
   "cell_type": "code",
   "execution_count": 17,
   "metadata": {},
   "outputs": [
    {
     "data": {
      "image/png": "[encoded data removed]",
      "text/plain": [
       "<Figure size 432x288 with 1 Axes>"
      ]
     },
     "metadata": {
      "needs_background": "light"
     },
     "output_type": "display_data"
    }
   ],
   "source": [
    "plt.plot(dx*np.arange(len(U_ELS_IFDM[N])), U_ELS_IFDM[N])\n",
    "plt.show()"
   ]
  },
  {
   "cell_type": "code",
   "execution_count": 18,
   "metadata": {},
   "outputs": [
    {
     "data": {
      "text/plain": [
       "array([200.        ,   0.97528244])"
      ]
     },
     "execution_count": 18,
     "metadata": {},
     "output_type": "execute_result"
    }
   ],
   "source": [
    "price_ELS_IFDM_E= np.zeros((I+1, 2))\n",
    "price_ELS_IFDM_E[:, 0] = 0 + np.arange(0, I+1) * dx\n",
    "price_ELS_IFDM_E[:, 1] = U_ELS_IFDM[N]\n",
    "price_ELS_IFDM_E[len(price_ELS_IFDM_E)//4] # U"
   ]
  },
  {
   "cell_type": "code",
   "execution_count": 19,
   "metadata": {},
   "outputs": [
    {
     "data": {
      "text/plain": [
       "array([200.       ,   0.9671785])"
      ]
     },
     "execution_count": 19,
     "metadata": {},
     "output_type": "execute_result"
    }
   ],
   "source": [
    "price_ELS_IFDM_W= np.zeros((I+1, 2))\n",
    "price_ELS_IFDM_W[:, 0] = 0 + np.arange(0, I+1) * dx\n",
    "price_ELS_IFDM_W[:, 1] = W_ELS_IFDM[N]\n",
    "price_ELS_IFDM_W[len(price_ELS_IFDM_W)//4] # W"
   ]
  },
  {
   "cell_type": "markdown",
   "metadata": {},
   "source": [
    "IFDM을 이용한 ELS pricing도 무난하게 된 것 같다! 이제 CNFDM으로 ELS pricing을 해보자!"
   ]
  },
  {
   "cell_type": "code",
   "execution_count": 20,
   "metadata": {},
   "outputs": [],
   "source": [
    "def ELS_OneStar_CNFDM(Smin, Smax, vol, r, D, S0, cr, K, B, T, I, N, dates):\n",
    "    dt = T/N\n",
    "    S = np.linspace(Smin, Smax, I+1)\n",
    "    S0_point = np.where(S == S0)[0][0]\n",
    "    x = S/S0\n",
    "    # Coefficients of x for IFDM and boundary condition adjustment\n",
    "    tmp = np.arange(1, I)\n",
    "    a = dt/2*(r + (vol**2) * (tmp*tmp))\n",
    "    b = (dt/4) * ((r-D) * tmp - (vol**2) * (tmp*tmp))\n",
    "    c = (dt/4) * (-(r-D) * tmp - (vol**2) * (tmp*tmp))\n",
    "    a_prime = a.copy()\n",
    "    b_prime = b.copy()\n",
    "    c_prime = c.copy()\n",
    "    a_prime[0] = a[0] + 2*b[0]\n",
    "    c_prime[0] = c[0] - b[0]\n",
    "    a_prime[I-2] = a[I-2] + 2*c[I-2]\n",
    "    b_prime[I-2] = b[I-2] - c[I-2]\n",
    "\n",
    "    # Initial conditions, u(0, j) and w(0, j) are determined\n",
    "    u = np.zeros((N+1, I+1))\n",
    "    w = np.zeros((N+1, I+1))\n",
    "    for j in range(I):\n",
    "        # u\n",
    "        if(x[j] > B):\n",
    "            u[0][j] = 1 + cr[5]\n",
    "        else:\n",
    "            u[0][j] = x[j]\n",
    "        # w\n",
    "        if x[j] >= K[-1]:\n",
    "            w[0][j] = (1 + cr[5])\n",
    "        else:\n",
    "            w[0][j] = x[j]\n",
    "    \n",
    "    # Linear boundary condition\n",
    "#     u[1:N+1, 0] = 2 * u[1:N+1, 1] - u[1:N+1, 2]\n",
    "#     u[1:N+1, I] = 2 * u[1:N+1, I-1] - u[1:N+1, I-2]\n",
    "#     w[1:N+1, 0] = 2 * w[1:N+1, 1] - w[1:N+1, 2]\n",
    "#     w[1:N+1, I] = 2 * w[1:N+1, I-1] - w[1:N+1, I-2]\n",
    "    u[0, 0] = 2 * u[0, 1] - u[0, 2]\n",
    "    u[0, I] = 2 * u[0, I-1] - u[0, I-2]\n",
    "    w[0, 0] = 2 * w[0, 1] - w[0, 2]\n",
    "    w[0, I] = 2 * w[0, I-1] - w[0, I-2]\n",
    "#     print(a.shape)\n",
    "#     print(b.shape)\n",
    "#     print(c.shape)\n",
    "    Btag = int(round(S0_point* B)) # Btag : barrier 가격의 index\n",
    "    for i in range(1, N+1):\n",
    "        d = -b*u[i-1][0: I-1] + (1 - a) * u[i-1, 1:I] - c * u[i-1, 2:I+1]\n",
    "        d[0] = d[0] - b[0]* u[i][0]\n",
    "        d[I-2] = d[I-2] - c[I-2] * u[i][I]\n",
    "        d2 = -b*w[i-1][0: I-1] + (1 - a) * w[i-1, 1:I] - c * w[i-1, 2:I+1]\n",
    "        d2[0] = d2[0] - b[0]* w[i][0]\n",
    "        d2[I-2] = d2[I-2] - c[I-2] * w[i][I]\n",
    "        u[i, 1:I] = Thomas_algo1(1+a_prime, b_prime, c_prime, d) # CN에서는 a -> 1+a, \n",
    "        w[i, 1:I] = Thomas_algo1(1+a_prime, b_prime, c_prime, d2) # b, c -> I-2개(slicing) 필요.\n",
    "        \n",
    "#         print(i)\n",
    "#         print('u :', u[i])\n",
    "#         print('w :', w[i])\n",
    "\n",
    "        # fix under barrier\n",
    "        u[i, 1:Btag+1] = w[i, 1:Btag+1]\n",
    "        \n",
    "        # fix over strike price at the early redemtion date.\n",
    "        if i*dt in dates:\n",
    "#             print(i)\n",
    "#             print('period:', round(i*dt, 1))\n",
    "            dummy = int(round(S0_point * K[len(K) -1 - round(i*dt*2)])) # dummy : strike price index\n",
    "#             print('strike price:', S0_point * K[len(K) -1 - round(i*dt*2)])\n",
    "            u[i, dummy : I+1] = 1 + cr[round(len(cr) - round(i*dt, 1)*2)-1]\n",
    "            w[i, dummy : I+1] = 1 + cr[round(len(cr) - round(i*dt, 1)*2)-1]\n",
    "#             print('third:', round(len(cr) - round(i*dt, 1)*2)-1)\n",
    "#             print('fourth:', 1 + cr[round(len(cr) - round(i*dt, 1)*2)-1])\n",
    "        u[i][0] = 2 * u[i][1] - u[i][2]\n",
    "        u[i][I] = 2 * u[i][I-1] - u[i][I-2]\n",
    "        w[i][0] = 2 * w[i][1] - w[i][2]\n",
    "        w[i][I] = 2 * w[i][I-1] - w[i][I-2]\n",
    "        \n",
    "        \n",
    "    return u, w"
   ]
  },
  {
   "cell_type": "code",
   "execution_count": 21,
   "metadata": {},
   "outputs": [],
   "source": [
    "U_ELS_CNFDM, W_ELS_CNFDM = ELS_OneStar_CNFDM(Smin, Smax, vol, r, D, s0, cr, K, B, T, I, N, dates)"
   ]
  },
  {
   "cell_type": "code",
   "execution_count": 22,
   "metadata": {},
   "outputs": [
    {
     "data": {
      "image/png": "[encoded data removed]",
      "text/plain": [
       "<Figure size 432x288 with 1 Axes>"
      ]
     },
     "metadata": {
      "needs_background": "light"
     },
     "output_type": "display_data"
    }
   ],
   "source": [
    "plt.plot(dx*np.arange(len(U_ELS_CNFDM[N])), U_ELS_CNFDM[N])\n",
    "plt.show()"
   ]
  },
  {
   "cell_type": "code",
   "execution_count": 23,
   "metadata": {},
   "outputs": [
    {
     "data": {
      "text/plain": [
       "array([200.        ,   0.97475793])"
      ]
     },
     "execution_count": 23,
     "metadata": {},
     "output_type": "execute_result"
    }
   ],
   "source": [
    "price_ELS_CNFDM_E = np.zeros((I+1, 2))\n",
    "price_ELS_CNFDM_E[:, 0] = 0 + np.arange(0, I+1) * dx\n",
    "price_ELS_CNFDM_E[:, 1] = U_ELS_CNFDM[N]\n",
    "price_ELS_CNFDM_E[len(price_ELS_CNFDM_E)//4] # U"
   ]
  },
  {
   "cell_type": "code",
   "execution_count": 24,
   "metadata": {},
   "outputs": [
    {
     "data": {
      "text/plain": [
       "array([200.        ,   0.96705272])"
      ]
     },
     "execution_count": 24,
     "metadata": {},
     "output_type": "execute_result"
    }
   ],
   "source": [
    "price_ELS_CNFDM_W= np.zeros((I+1, 2))\n",
    "price_ELS_CNFDM_W[:, 0] = 0 + np.arange(0, I+1) * dx\n",
    "price_ELS_CNFDM_W[:, 1] = W_ELS_CNFDM[N]\n",
    "price_ELS_CNFDM_W[len(price_ELS_CNFDM_W)//4] # W"
   ]
  },
  {
   "cell_type": "markdown",
   "metadata": {},
   "source": [
    "교수님 예제의 CNFDM이 IFDM과 꽤 비슷하게 나온다. 이제, 내가 찾은 ELS를 대상으로 해봐야겠다."
   ]
  },
  {
   "cell_type": "markdown",
   "metadata": {},
   "source": [
    "# NH투자증권 ELS 19279 - price : 9724.91원"
   ]
  },
  {
   "cell_type": "code",
   "execution_count": 25,
   "metadata": {},
   "outputs": [],
   "source": [
    "r = 0.008 # 임의로 잡은 이자율.\n",
    "D = 0\n",
    "s0 = 271.56 # KOSPI200 index S0 : 270\n",
    "cr = np.arange(1, 7) * 0.0225\n",
    "K = [0.95, 0.95, 0.90, 0.90, 0.85, 0.80] # strike prices\n",
    "dates = [0, 0.5, 1, 1.5, 2, 2.5] # 반년에 1번씩 early redemtion date\n",
    "B = 0.65 # Barrier\n",
    "vol = 0.1813 # NH투자증권 제공.\n",
    "dx = s0 * 0.01\n",
    "I = 400\n",
    "Smax = dx * I\n",
    "Smin = 0\n",
    "pp = 50 # number of time points\n",
    "N = 6 * pp\n",
    "T = 3 # maturity"
   ]
  },
  {
   "cell_type": "code",
   "execution_count": 26,
   "metadata": {},
   "outputs": [],
   "source": [
    "U_HW_IFDM, W_HW_IFDM = ELS_OneStar_IFDM(Smin, Smax, vol, r, D, s0, cr, K, B, T, I, N, dates)"
   ]
  },
  {
   "cell_type": "code",
   "execution_count": 27,
   "metadata": {},
   "outputs": [
    {
     "data": {
      "text/plain": [
       "array([271.56      ,   0.99358762])"
      ]
     },
     "execution_count": 27,
     "metadata": {},
     "output_type": "execute_result"
    }
   ],
   "source": [
    "price_HW_IFDM_E = np.zeros((I+1, 2))\n",
    "price_HW_IFDM_E[:, 0] = 0 + np.arange(0, I+1) * dx\n",
    "price_HW_IFDM_E[:, 1] = U_HW_IFDM[N]\n",
    "price_HW_IFDM_E[len(price_HW_IFDM_E)//4] # U"
   ]
  },
  {
   "cell_type": "code",
   "execution_count": 28,
   "metadata": {},
   "outputs": [
    {
     "data": {
      "text/plain": [
       "array([271.56      ,   0.98767209])"
      ]
     },
     "execution_count": 28,
     "metadata": {},
     "output_type": "execute_result"
    }
   ],
   "source": [
    "price_HW_IFDM_W= np.zeros((I+1, 2))\n",
    "price_HW_IFDM_W[:, 0] = 0 + np.arange(0, I+1) * dx\n",
    "price_HW_IFDM_W[:, 1] = W_HW_IFDM[N]\n",
    "price_HW_IFDM_W[len(price_HW_IFDM_W)//4] # U"
   ]
  },
  {
   "cell_type": "code",
   "execution_count": 29,
   "metadata": {},
   "outputs": [],
   "source": [
    "U_HW_CNFDM, W_HW_CNFDM = ELS_OneStar_CNFDM(Smin, Smax, vol, r, D, s0, cr, K, B, T, I, N, dates)"
   ]
  },
  {
   "cell_type": "code",
   "execution_count": 30,
   "metadata": {},
   "outputs": [
    {
     "data": {
      "text/plain": [
       "array([271.56      ,   0.99317965])"
      ]
     },
     "execution_count": 30,
     "metadata": {},
     "output_type": "execute_result"
    }
   ],
   "source": [
    "price_HW_CNFDM_E= np.zeros((I+1, 2))\n",
    "price_HW_CNFDM_E[:, 0] = 0 + np.arange(0, I+1) * dx\n",
    "price_HW_CNFDM_E[:, 1] = U_HW_CNFDM[N]\n",
    "price_HW_CNFDM_E[len(price_HW_CNFDM_E)//4] # U"
   ]
  },
  {
   "cell_type": "code",
   "execution_count": 31,
   "metadata": {},
   "outputs": [
    {
     "data": {
      "text/plain": [
       "array([271.56      ,   0.98757056])"
      ]
     },
     "execution_count": 31,
     "metadata": {},
     "output_type": "execute_result"
    }
   ],
   "source": [
    "price_HW_CNFDM_W= np.zeros((I+1, 2))\n",
    "price_HW_CNFDM_W[:, 0] = 0 + np.arange(0, I+1) * dx\n",
    "price_HW_CNFDM_W[:, 1] = W_HW_CNFDM[N]\n",
    "price_HW_CNFDM_W[len(price_HW_CNFDM_W)//4] # U"
   ]
  },
  {
   "cell_type": "markdown",
   "metadata": {},
   "source": [
    "내가 가져온 ELS의 프라이싱은 위와 같이 되었다. 시뮬레이션을 해봐야겠다."
   ]
  },
  {
   "cell_type": "code",
   "execution_count": 32,
   "metadata": {},
   "outputs": [],
   "source": [
    "def ELS_OneStar_Simulation(s0, mu, vol, r, D, cr, K, B, N, dates, T):\n",
    "    S = np.zeros(N+1)\n",
    "    x = np.zeros(N+1)\n",
    "    dt = T/N\n",
    "    x[0] = 1\n",
    "    S[0] = s0\n",
    "    cnt = 0.0\n",
    "    total_iter = 10000\n",
    "    sprice = 0\n",
    "    for i in range(total_iter):\n",
    "        KI = 0 # Knock-In\n",
    "        # 하나의 시나리오 만들어내기.\n",
    "        for j in range(N):\n",
    "            e = np.random.randn(1)[0]\n",
    "            S[j+1] = S[j] * (1+(mu-D)*dt + vol * np.sqrt(dt) * e) # Black-scholes Model\n",
    "            x[j+1] = S[j+1]/s0\n",
    "        \n",
    "        # 시나리오의 상황을 체크한다.\n",
    "        # 1. Barrier를 Knock-In 한적 있는가?\n",
    "        if min(x) <= B:\n",
    "            KI = 1\n",
    "            cnt = cnt+1\n",
    "        \n",
    "        # 2. 첫번째 조기상환 기간에 조기상환 되었는가?\n",
    "        if x[N//6] >= K[0]:\n",
    "            price = (1+cr[0]) * np.exp(-r*dates[0])\n",
    "        # 3. 두번째 조기상환 기간에 조기상환 되었는가?\n",
    "        elif x[N//6*2] >= K[1]:\n",
    "            price = (1+cr[1]) * np.exp(-r*dates[1])\n",
    "        # 4. 세번째 조기상환 기간에 조기상환 되었는가?\n",
    "        elif x[N//6*3] >= K[2]:\n",
    "            price = (1+cr[2]) * np.exp(-r*dates[2])\n",
    "        # 5. 네번째 조기상환 기간에 조기상환 되었는가?\n",
    "        elif x[N//6*4] >= K[3]:\n",
    "            price = (1+cr[3]) * np.exp(-r*dates[3])\n",
    "        # 6. 다섯번째 조기상환 기간에 조기상환 되었는가?\n",
    "        elif x[N//6*5] >= K[4]:\n",
    "            price = (1+cr[4]) * np.exp(-r*dates[4])\n",
    "        # 7. 만기 상환관련 이슈. 만기에 가격이 행사가격보다 높은가?\n",
    "        elif x[N] >= K[5]:\n",
    "            price = (1+cr[5]) * np.exp(-r*dates[5])\n",
    "        # 8. 두 번째 만기 관련 이슈. 배리어를 친적이 있는가? 그렇다면, 행사가격보다 낮기도 하기 때문에.. 낮은가격!\n",
    "        elif KI == 1:\n",
    "            price = x[N] * np.exp(-r*dates[5])\n",
    "        else: # 배리어를 친 적은 없고, 만기 가격이 (배리어 ~ 행사가격) 사이인 경우.\n",
    "            price = (1+cr[5]) * np.exp(-r*dates[5])\n",
    "        sprice = sprice + price\n",
    "    sprice = sprice / total_iter\n",
    "    prob = cnt / total_iter\n",
    "    print('Simulation price and probability of KI: %.4f, %.4f \\n\\n' %(sprice, prob))\n",
    "    "
   ]
  },
  {
   "cell_type": "code",
   "execution_count": 33,
   "metadata": {},
   "outputs": [
    {
     "name": "stdout",
     "output_type": "stream",
     "text": [
      "Simulation price and probability of KI: 0.9928, 0.1778 \n",
      "\n",
      "\n"
     ]
    }
   ],
   "source": [
    "dates = np.arange(1, 7) * 0.5\n",
    "price_HW_sim = ELS_OneStar_Simulation(s0, r, vol, r, D, cr, K, B, N, dates, T)"
   ]
  },
  {
   "cell_type": "code",
   "execution_count": 34,
   "metadata": {},
   "outputs": [
    {
     "name": "stdout",
     "output_type": "stream",
     "text": [
      "delta : 9.87977616296134\n",
      "gamma : -0.8666897189293788\n",
      "vega : 0.0\n"
     ]
    }
   ],
   "source": [
    "u = 10000 * U_HW_CNFDM[N] # price of derivatives\n",
    "delta = []\n",
    "gamma = []\n",
    "for i in range(I):\n",
    "    delta.append( (u[i+1] - u[i]) / dx )\n",
    "for i in range(1, I):\n",
    "    gamma.append( ( u[i+1]-2*u[i]+u[i-1] ) / dx )\n",
    "u_1, _ = ELS_OneStar_CNFDM(Smin, Smax, vol, r, D, s0, cr, K, B, T, I, N, dates)\n",
    "u_1 = 10000 * u_1[N][I//4]\n",
    "u_2, _ = ELS_OneStar_CNFDM(Smin, Smax, vol+0.01, r, D, s0, cr, K, B, T, I, N, dates)\n",
    "u_2 = 10000 * u_2[N][I//4]\n",
    "vega = (u_2-u_1)/0.01\n",
    "print('delta :', delta[I//4])\n",
    "print('gamma :', gamma[I//4])\n",
    "print('vega :', vega)"
   ]
  },
  {
   "cell_type": "code",
   "execution_count": 35,
   "metadata": {},
   "outputs": [
    {
     "data": {
      "image/png": "[encoded data removed]",
      "text/plain": [
       "<Figure size 720x576 with 1 Axes>"
      ]
     },
     "metadata": {
      "needs_background": "light"
     },
     "output_type": "display_data"
    }
   ],
   "source": [
    "# price plot\n",
    "plt.figure(figsize = (10, 8))\n",
    "plt.title(\"price distribution\")\n",
    "plt.plot(np.arange(len(u)) * dx, u)\n",
    "#plt.xlim([0, 100])\n",
    "plt.show()"
   ]
  },
  {
   "cell_type": "code",
   "execution_count": 36,
   "metadata": {},
   "outputs": [
    {
     "data": {
      "image/png": "[encoded data removed]",
      "text/plain": [
       "<Figure size 720x576 with 1 Axes>"
      ]
     },
     "metadata": {
      "needs_background": "light"
     },
     "output_type": "display_data"
    }
   ],
   "source": [
    "# delta plot\n",
    "plt.figure(figsize = (10, 8))\n",
    "plt.title(\"delta distribution\")\n",
    "plt.plot(np.arange(len(delta)) * dx, delta)\n",
    "#plt.xlim([0, 100])\n",
    "plt.show()"
   ]
  },
  {
   "cell_type": "code",
   "execution_count": 37,
   "metadata": {},
   "outputs": [
    {
     "data": {
      "image/png": "[encoded data removed]",
      "text/plain": [
       "<Figure size 720x576 with 1 Axes>"
      ]
     },
     "metadata": {
      "needs_background": "light"
     },
     "output_type": "display_data"
    }
   ],
   "source": [
    "# gamma plot\n",
    "plt.figure(figsize = (10, 8))\n",
    "plt.plot(np.arange(len(gamma)) * dx, gamma)\n",
    "plt.title(\"gamma distribution\")\n",
    "#plt.xlim([0, 100])\n",
    "plt.show()"
   ]
  },
  {
   "cell_type": "code",
   "execution_count": 38,
   "metadata": {},
   "outputs": [
    {
     "data": {
      "text/plain": [
       "36.82427456179571"
      ]
     },
     "execution_count": 38,
     "metadata": {},
     "output_type": "execute_result"
    }
   ],
   "source": [
    "delta[5]"
   ]
  },
  {
   "cell_type": "code",
   "execution_count": null,
   "metadata": {},
   "outputs": [],
   "source": []
  },
  {
   "cell_type": "code",
   "execution_count": null,
   "metadata": {},
   "outputs": [],
   "source": []
  },
  {
   "cell_type": "code",
   "execution_count": null,
   "metadata": {},
   "outputs": [],
   "source": []
  },
  {
   "cell_type": "code",
   "execution_count": null,
   "metadata": {},
   "outputs": [],
   "source": []
  },
  {
   "cell_type": "code",
   "execution_count": null,
   "metadata": {},
   "outputs": [],
   "source": []
  },
  {
   "cell_type": "code",
   "execution_count": null,
   "metadata": {},
   "outputs": [],
   "source": []
  }
 ],
 "metadata": {
  "kernelspec": {
   "display_name": "Python 3",
   "language": "python",
   "name": "python3"
  },
  "language_info": {
   "codemirror_mode": {
    "name": "ipython",
    "version": 3
   },
   "file_extension": ".py",
   "mimetype": "text/x-python",
   "name": "python",
   "nbconvert_exporter": "python",
   "pygments_lexer": "ipython3",
   "version": "3.6.8"
  }
 },
 "nbformat": 4,
 "nbformat_minor": 2
}
